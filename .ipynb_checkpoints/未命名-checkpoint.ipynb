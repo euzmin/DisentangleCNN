{
 "cells": [
  {
   "cell_type": "code",
   "execution_count": 2,
   "metadata": {},
   "outputs": [],
   "source": [
    "import torch\n",
    "x = torch.ones((4,2,3,3))"
   ]
  },
  {
   "cell_type": "code",
   "execution_count": 3,
   "metadata": {
    "scrolled": true
   },
   "outputs": [
    {
     "data": {
      "text/plain": [
       "tensor([[[[1., 2., 3.],\n",
       "          [4., 5., 6.],\n",
       "          [7., 8., 9.]],\n",
       "\n",
       "         [[1., 2., 3.],\n",
       "          [4., 5., 6.],\n",
       "          [7., 8., 9.]]],\n",
       "\n",
       "\n",
       "        [[[1., 2., 3.],\n",
       "          [4., 5., 6.],\n",
       "          [7., 8., 9.]],\n",
       "\n",
       "         [[1., 2., 3.],\n",
       "          [4., 5., 6.],\n",
       "          [7., 8., 9.]]],\n",
       "\n",
       "\n",
       "        [[[1., 2., 3.],\n",
       "          [4., 5., 6.],\n",
       "          [7., 8., 9.]],\n",
       "\n",
       "         [[1., 2., 3.],\n",
       "          [4., 5., 6.],\n",
       "          [7., 8., 9.]]],\n",
       "\n",
       "\n",
       "        [[[1., 2., 3.],\n",
       "          [4., 5., 6.],\n",
       "          [7., 8., 9.]],\n",
       "\n",
       "         [[1., 2., 3.],\n",
       "          [4., 5., 6.],\n",
       "          [7., 8., 9.]]]])"
      ]
     },
     "execution_count": 3,
     "metadata": {},
     "output_type": "execute_result"
    }
   ],
   "source": [
    "for i in range(3):\n",
    "    for j in range(3):\n",
    "        x[:,:,i,j] += i*3+j\n",
    "x"
   ]
  },
  {
   "cell_type": "code",
   "execution_count": 4,
   "metadata": {},
   "outputs": [
    {
     "data": {
      "text/plain": [
       "torch.Size([4, 2, 9])"
      ]
     },
     "execution_count": 4,
     "metadata": {},
     "output_type": "execute_result"
    }
   ],
   "source": [
    "in_fts = x.reshape(x.shape[0], x.shape[1],-1)\n",
    "in_fts.shape"
   ]
  },
  {
   "cell_type": "code",
   "execution_count": 5,
   "metadata": {},
   "outputs": [],
   "source": [
    "# center feature\n",
    "cent_f = in_fts[:,:,in_fts.shape[2]//2]\n",
    "# lf is local filter,shape is [batch,channel,3*3]\n",
    "lf = cent_f.reshape((4, 2, 1))"
   ]
  },
  {
   "cell_type": "code",
   "execution_count": 6,
   "metadata": {},
   "outputs": [
    {
     "data": {
      "text/plain": [
       "torch.Size([4, 2])"
      ]
     },
     "execution_count": 6,
     "metadata": {},
     "output_type": "execute_result"
    }
   ],
   "source": [
    "lf.shape"
   ]
  },
  {
   "cell_type": "code",
   "execution_count": 7,
   "metadata": {},
   "outputs": [
    {
     "data": {
      "text/plain": [
       "tensor([[5., 5.],\n",
       "        [5., 5.],\n",
       "        [5., 5.],\n",
       "        [5., 5.]])"
      ]
     },
     "execution_count": 7,
     "metadata": {},
     "output_type": "execute_result"
    }
   ],
   "source": [
    "lf"
   ]
  },
  {
   "cell_type": "code",
   "execution_count": 8,
   "metadata": {},
   "outputs": [
    {
     "data": {
      "text/plain": [
       "tensor([[[5., 5., 5., 5., 5., 5., 5., 5., 5.],\n",
       "         [5., 5., 5., 5., 5., 5., 5., 5., 5.]],\n",
       "\n",
       "        [[5., 5., 5., 5., 5., 5., 5., 5., 5.],\n",
       "         [5., 5., 5., 5., 5., 5., 5., 5., 5.]],\n",
       "\n",
       "        [[5., 5., 5., 5., 5., 5., 5., 5., 5.],\n",
       "         [5., 5., 5., 5., 5., 5., 5., 5., 5.]],\n",
       "\n",
       "        [[5., 5., 5., 5., 5., 5., 5., 5., 5.],\n",
       "         [5., 5., 5., 5., 5., 5., 5., 5., 5.]]])"
      ]
     },
     "execution_count": 8,
     "metadata": {},
     "output_type": "execute_result"
    }
   ],
   "source": [
    "lf = lf.reshape((4,2,1))\n",
    "lf = lf.expand((-1,-1,in_fts.shape[2]))\n",
    "lf"
   ]
  },
  {
   "cell_type": "code",
   "execution_count": 9,
   "metadata": {
    "scrolled": true
   },
   "outputs": [
    {
     "data": {
      "text/plain": [
       "tensor([[  -32.,   -18.,    -8.,    -2., -1000.,    -2.,    -8.,   -18.,   -32.],\n",
       "        [  -32.,   -18.,    -8.,    -2., -1000.,    -2.,    -8.,   -18.,   -32.],\n",
       "        [  -32.,   -18.,    -8.,    -2., -1000.,    -2.,    -8.,   -18.,   -32.],\n",
       "        [  -32.,   -18.,    -8.,    -2., -1000.,    -2.,    -8.,   -18.,   -32.]])"
      ]
     },
     "execution_count": 9,
     "metadata": {},
     "output_type": "execute_result"
    }
   ],
   "source": [
    "dis = -torch.sum(((lf-in_fts)**2),1)\n",
    "ep = 1000\n",
    "dis[:,in_fts.shape[2]//2] -= ep\n",
    "dis"
   ]
  },
  {
   "cell_type": "code",
   "execution_count": 10,
   "metadata": {},
   "outputs": [
    {
     "data": {
      "text/plain": [
       "torch.Size([4, 9])"
      ]
     },
     "execution_count": 10,
     "metadata": {},
     "output_type": "execute_result"
    }
   ],
   "source": [
    "dis.shape"
   ]
  },
  {
   "cell_type": "code",
   "execution_count": 11,
   "metadata": {},
   "outputs": [
    {
     "data": {
      "text/plain": [
       "torch.Size([4, 9])"
      ]
     },
     "execution_count": 11,
     "metadata": {},
     "output_type": "execute_result"
    }
   ],
   "source": [
    "sc = torch.softmax(dis,-1)\n",
    "sc.shape"
   ]
  },
  {
   "cell_type": "code",
   "execution_count": 12,
   "metadata": {},
   "outputs": [
    {
     "data": {
      "text/plain": [
       "tensor([[4.6672e-14, 5.6128e-08, 1.2363e-03, 4.9876e-01, 0.0000e+00, 4.9876e-01,\n",
       "         1.2363e-03, 5.6128e-08, 4.6672e-14],\n",
       "        [4.6672e-14, 5.6128e-08, 1.2363e-03, 4.9876e-01, 0.0000e+00, 4.9876e-01,\n",
       "         1.2363e-03, 5.6128e-08, 4.6672e-14],\n",
       "        [4.6672e-14, 5.6128e-08, 1.2363e-03, 4.9876e-01, 0.0000e+00, 4.9876e-01,\n",
       "         1.2363e-03, 5.6128e-08, 4.6672e-14],\n",
       "        [4.6672e-14, 5.6128e-08, 1.2363e-03, 4.9876e-01, 0.0000e+00, 4.9876e-01,\n",
       "         1.2363e-03, 5.6128e-08, 4.6672e-14]])"
      ]
     },
     "execution_count": 12,
     "metadata": {},
     "output_type": "execute_result"
    }
   ],
   "source": [
    "sc"
   ]
  },
  {
   "cell_type": "code",
   "execution_count": 13,
   "metadata": {},
   "outputs": [
    {
     "data": {
      "text/plain": [
       "torch.Size([4, 1, 9])"
      ]
     },
     "execution_count": 13,
     "metadata": {},
     "output_type": "execute_result"
    }
   ],
   "source": [
    "sc = sc.unsqueeze(1)\n",
    "sc.shape"
   ]
  },
  {
   "cell_type": "code",
   "execution_count": 14,
   "metadata": {},
   "outputs": [],
   "source": [
    "sc = sc.expand(-1,in_fts.shape[1],-1)\n",
    "out_fts = sc.mul(in_fts)"
   ]
  },
  {
   "cell_type": "code",
   "execution_count": 15,
   "metadata": {},
   "outputs": [
    {
     "data": {
      "text/plain": [
       "tensor([[[4.6672e-14, 1.1226e-07, 3.7089e-03, 1.9951e+00, 0.0000e+00,\n",
       "          2.9926e+00, 8.6542e-03, 4.4903e-07, 4.2005e-13],\n",
       "         [4.6672e-14, 1.1226e-07, 3.7089e-03, 1.9951e+00, 0.0000e+00,\n",
       "          2.9926e+00, 8.6542e-03, 4.4903e-07, 4.2005e-13]],\n",
       "\n",
       "        [[4.6672e-14, 1.1226e-07, 3.7089e-03, 1.9951e+00, 0.0000e+00,\n",
       "          2.9926e+00, 8.6542e-03, 4.4903e-07, 4.2005e-13],\n",
       "         [4.6672e-14, 1.1226e-07, 3.7089e-03, 1.9951e+00, 0.0000e+00,\n",
       "          2.9926e+00, 8.6542e-03, 4.4903e-07, 4.2005e-13]],\n",
       "\n",
       "        [[4.6672e-14, 1.1226e-07, 3.7089e-03, 1.9951e+00, 0.0000e+00,\n",
       "          2.9926e+00, 8.6542e-03, 4.4903e-07, 4.2005e-13],\n",
       "         [4.6672e-14, 1.1226e-07, 3.7089e-03, 1.9951e+00, 0.0000e+00,\n",
       "          2.9926e+00, 8.6542e-03, 4.4903e-07, 4.2005e-13]],\n",
       "\n",
       "        [[4.6672e-14, 1.1226e-07, 3.7089e-03, 1.9951e+00, 0.0000e+00,\n",
       "          2.9926e+00, 8.6542e-03, 4.4903e-07, 4.2005e-13],\n",
       "         [4.6672e-14, 1.1226e-07, 3.7089e-03, 1.9951e+00, 0.0000e+00,\n",
       "          2.9926e+00, 8.6542e-03, 4.4903e-07, 4.2005e-13]]])"
      ]
     },
     "execution_count": 15,
     "metadata": {},
     "output_type": "execute_result"
    }
   ],
   "source": [
    "out_fts"
   ]
  },
  {
   "cell_type": "code",
   "execution_count": 19,
   "metadata": {},
   "outputs": [
    {
     "data": {
      "text/plain": [
       "tensor([[9.3345e-14, 2.2451e-07, 7.4179e-03, 3.9901e+00, 0.0000e+00, 5.9852e+00,\n",
       "         1.7308e-02, 8.9806e-07, 8.4010e-13],\n",
       "        [9.3345e-14, 2.2451e-07, 7.4179e-03, 3.9901e+00, 0.0000e+00, 5.9852e+00,\n",
       "         1.7308e-02, 8.9806e-07, 8.4010e-13],\n",
       "        [9.3345e-14, 2.2451e-07, 7.4179e-03, 3.9901e+00, 0.0000e+00, 5.9852e+00,\n",
       "         1.7308e-02, 8.9806e-07, 8.4010e-13],\n",
       "        [9.3345e-14, 2.2451e-07, 7.4179e-03, 3.9901e+00, 0.0000e+00, 5.9852e+00,\n",
       "         1.7308e-02, 8.9806e-07, 8.4010e-13]])"
      ]
     },
     "execution_count": 19,
     "metadata": {},
     "output_type": "execute_result"
    }
   ],
   "source": [
    "torch.sum(out_fts,1)"
   ]
  },
  {
   "cell_type": "code",
   "execution_count": 17,
   "metadata": {},
   "outputs": [
    {
     "data": {
      "text/plain": [
       "torch.Size([4])"
      ]
     },
     "execution_count": 17,
     "metadata": {},
     "output_type": "execute_result"
    }
   ],
   "source": [
    "dis[:, in_fts.shape[2] // 2].shape"
   ]
  },
  {
   "cell_type": "code",
   "execution_count": null,
   "metadata": {},
   "outputs": [],
   "source": []
  }
 ],
 "metadata": {
  "kernelspec": {
   "display_name": "Python 3",
   "language": "python",
   "name": "python3"
  },
  "language_info": {
   "codemirror_mode": {
    "name": "ipython",
    "version": 3
   },
   "file_extension": ".py",
   "mimetype": "text/x-python",
   "name": "python",
   "nbconvert_exporter": "python",
   "pygments_lexer": "ipython3",
   "version": "3.7.4"
  }
 },
 "nbformat": 4,
 "nbformat_minor": 2
}
