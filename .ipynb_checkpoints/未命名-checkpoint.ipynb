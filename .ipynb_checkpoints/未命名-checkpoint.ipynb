{
 "cells": [
  {
   "cell_type": "code",
   "execution_count": 1,
   "metadata": {},
   "outputs": [],
   "source": [
    "from vgg_model import *\n",
    "\n",
    "model = VGG_features([64, 64, 'M', 128, 128, 'M', 256, 256, 256, 'M', 512, 512, 512, 'M', 512, 512, 512, 'M'], \"/Users/zmin/PycharmProjects/DisentangleCNN/pretrained_models/vgg16-397923af.pth\", pretrained=False, batch_norm=False)\n"
   ]
  },
  {
   "cell_type": "code",
   "execution_count": 2,
   "metadata": {
    "scrolled": true
   },
   "outputs": [
    {
     "name": "stdout",
     "output_type": "stream",
     "text": [
      "features.0.weight torch.Size([64, 3, 3, 3])\n",
      "features.0.bias torch.Size([64])\n",
      "features.2.weight torch.Size([64, 64, 3, 3])\n",
      "features.2.bias torch.Size([64])\n",
      "features.5.weight torch.Size([128, 64, 3, 3])\n",
      "features.5.bias torch.Size([128])\n",
      "features.7.weight torch.Size([128, 128, 3, 3])\n",
      "features.7.bias torch.Size([128])\n",
      "features.10.weight torch.Size([256, 128, 3, 3])\n",
      "features.10.bias torch.Size([256])\n",
      "features.12.weight torch.Size([256, 256, 3, 3])\n",
      "features.12.bias torch.Size([256])\n",
      "features.14.weight torch.Size([256, 256, 3, 3])\n",
      "features.14.bias torch.Size([256])\n",
      "features.17.weight torch.Size([512, 256, 3, 3])\n",
      "features.17.bias torch.Size([512])\n",
      "features.19.weight torch.Size([512, 512, 3, 3])\n",
      "features.19.bias torch.Size([512])\n",
      "features.21.weight torch.Size([512, 512, 3, 3])\n",
      "features.21.bias torch.Size([512])\n",
      "features.24.weight torch.Size([512, 512, 3, 3])\n",
      "features.24.bias torch.Size([512])\n",
      "features.26.weight torch.Size([512, 512, 3, 3])\n",
      "features.26.bias torch.Size([512])\n",
      "features.28.weight torch.Size([512, 512, 3, 3])\n",
      "features.28.bias torch.Size([512])\n",
      "classifier.0.weight torch.Size([4096, 25088])\n",
      "classifier.0.bias torch.Size([4096])\n",
      "classifier.3.weight torch.Size([4096, 4096])\n",
      "classifier.3.bias torch.Size([4096])\n",
      "classifier.6.weight torch.Size([200, 4096])\n",
      "classifier.6.bias torch.Size([200])\n"
     ]
    }
   ],
   "source": [
    "param = model.state_dict()\n",
    "for k,v in param.items():\n",
    "    print(f'{k} {v.shape}')"
   ]
  },
  {
   "cell_type": "code",
   "execution_count": 3,
   "metadata": {
    "scrolled": true
   },
   "outputs": [
    {
     "name": "stdout",
     "output_type": "stream",
     "text": [
      "features.0.weight torch.Size([64, 3, 3, 3])\n",
      "features.0.bias torch.Size([64])\n",
      "features.2.weight torch.Size([64, 64, 3, 3])\n",
      "features.2.bias torch.Size([64])\n",
      "features.5.weight torch.Size([128, 64, 3, 3])\n",
      "features.5.bias torch.Size([128])\n",
      "features.7.weight torch.Size([128, 128, 3, 3])\n",
      "features.7.bias torch.Size([128])\n",
      "features.10.weight torch.Size([256, 128, 3, 3])\n",
      "features.10.bias torch.Size([256])\n",
      "features.12.weight torch.Size([256, 256, 3, 3])\n",
      "features.12.bias torch.Size([256])\n",
      "features.14.weight torch.Size([256, 256, 3, 3])\n",
      "features.14.bias torch.Size([256])\n",
      "features.17.weight torch.Size([512, 256, 3, 3])\n",
      "features.17.bias torch.Size([512])\n",
      "features.19.weight torch.Size([512, 512, 3, 3])\n",
      "features.19.bias torch.Size([512])\n",
      "features.21.weight torch.Size([512, 512, 3, 3])\n",
      "features.21.bias torch.Size([512])\n",
      "features.24.weight torch.Size([512, 512, 3, 3])\n",
      "features.24.bias torch.Size([512])\n",
      "features.26.weight torch.Size([512, 512, 3, 3])\n",
      "features.26.bias torch.Size([512])\n",
      "features.28.weight torch.Size([512, 512, 3, 3])\n",
      "features.28.bias torch.Size([512])\n",
      "classifier.0.weight torch.Size([4096, 25088])\n",
      "classifier.0.bias torch.Size([4096])\n",
      "classifier.3.weight torch.Size([4096, 4096])\n",
      "classifier.3.bias torch.Size([4096])\n",
      "classifier.6.weight torch.Size([1000, 4096])\n",
      "classifier.6.bias torch.Size([1000])\n"
     ]
    }
   ],
   "source": [
    "param2 = torch.load(\"/Users/zmin/PycharmProjects/DisentangleCNN/pretrained_models/vgg16-397923af.pth\")\n",
    "for k,v in param2.items():\n",
    "    print(f'{k} {v.shape}')"
   ]
  },
  {
   "cell_type": "code",
   "execution_count": 9,
   "metadata": {},
   "outputs": [
    {
     "name": "stdout",
     "output_type": "stream",
     "text": [
      "classifier.6.weight\n",
      "classifier.6.bias\n"
     ]
    }
   ],
   "source": [
    "for k,v in param2.items():\n",
    "    if k.startswith('classifier.6'):\n",
    "        print(k)"
   ]
  },
  {
   "cell_type": "code",
   "execution_count": 10,
   "metadata": {},
   "outputs": [
    {
     "name": "stdout",
     "output_type": "stream",
     "text": [
      "features.0.weight, torch.Size([64, 3, 3, 3])\n",
      "features.0.bias, torch.Size([64])\n",
      "features.2.weight, torch.Size([64, 64, 3, 3])\n",
      "features.2.bias, torch.Size([64])\n",
      "features.5.weight, torch.Size([128, 64, 3, 3])\n",
      "features.5.bias, torch.Size([128])\n",
      "features.7.weight, torch.Size([128, 128, 3, 3])\n",
      "features.7.bias, torch.Size([128])\n",
      "features.10.weight, torch.Size([256, 128, 3, 3])\n",
      "features.10.bias, torch.Size([256])\n",
      "features.12.weight, torch.Size([256, 256, 3, 3])\n",
      "features.12.bias, torch.Size([256])\n",
      "features.14.weight, torch.Size([256, 256, 3, 3])\n",
      "features.14.bias, torch.Size([256])\n",
      "features.17.weight, torch.Size([512, 256, 3, 3])\n",
      "features.17.bias, torch.Size([512])\n",
      "features.19.weight, torch.Size([512, 512, 3, 3])\n",
      "features.19.bias, torch.Size([512])\n",
      "features.21.weight, torch.Size([512, 512, 3, 3])\n",
      "features.21.bias, torch.Size([512])\n",
      "features.24.weight, torch.Size([512, 512, 3, 3])\n",
      "features.24.bias, torch.Size([512])\n",
      "features.26.weight, torch.Size([512, 512, 3, 3])\n",
      "features.26.bias, torch.Size([512])\n",
      "features.28.weight, torch.Size([512, 512, 3, 3])\n",
      "features.28.bias, torch.Size([512])\n",
      "classifier.0.weight, torch.Size([4096, 25088])\n",
      "classifier.0.bias, torch.Size([4096])\n",
      "classifier.3.weight, torch.Size([4096, 4096])\n",
      "classifier.3.bias, torch.Size([4096])\n"
     ]
    }
   ],
   "source": [
    "params = {k: v for k, v in param2.items() if k in param and not k.startswith('classifier.6')}\n",
    "for k,v in params.items():\n",
    "    print(f'{k}, {v.shape}')"
   ]
  },
  {
   "cell_type": "code",
   "execution_count": 14,
   "metadata": {},
   "outputs": [
    {
     "name": "stdout",
     "output_type": "stream",
     "text": [
      "classifier.6.bias, tensor([0., 0., 0., 0., 0., 0., 0., 0., 0., 0., 0., 0., 0., 0., 0., 0., 0., 0., 0., 0., 0., 0., 0., 0.,\n",
      "        0., 0., 0., 0., 0., 0., 0., 0., 0., 0., 0., 0., 0., 0., 0., 0., 0., 0., 0., 0., 0., 0., 0., 0.,\n",
      "        0., 0., 0., 0., 0., 0., 0., 0., 0., 0., 0., 0., 0., 0., 0., 0., 0., 0., 0., 0., 0., 0., 0., 0.,\n",
      "        0., 0., 0., 0., 0., 0., 0., 0., 0., 0., 0., 0., 0., 0., 0., 0., 0., 0., 0., 0., 0., 0., 0., 0.,\n",
      "        0., 0., 0., 0., 0., 0., 0., 0., 0., 0., 0., 0., 0., 0., 0., 0., 0., 0., 0., 0., 0., 0., 0., 0.,\n",
      "        0., 0., 0., 0., 0., 0., 0., 0., 0., 0., 0., 0., 0., 0., 0., 0., 0., 0., 0., 0., 0., 0., 0., 0.,\n",
      "        0., 0., 0., 0., 0., 0., 0., 0., 0., 0., 0., 0., 0., 0., 0., 0., 0., 0., 0., 0., 0., 0., 0., 0.,\n",
      "        0., 0., 0., 0., 0., 0., 0., 0., 0., 0., 0., 0., 0., 0., 0., 0., 0., 0., 0., 0., 0., 0., 0., 0.,\n",
      "        0., 0., 0., 0., 0., 0., 0., 0.])\n"
     ]
    }
   ],
   "source": [
    "param.update(params)\n",
    "for k,v in param.items():\n",
    "    if k.startswith('classifier.6.weight'):\n",
    "        print(f'{k}, {v}')"
   ]
  },
  {
   "cell_type": "code",
   "execution_count": null,
   "metadata": {},
   "outputs": [],
   "source": []
  }
 ],
 "metadata": {
  "kernelspec": {
   "display_name": "Python 3",
   "language": "python",
   "name": "python3"
  },
  "language_info": {
   "codemirror_mode": {
    "name": "ipython",
    "version": 3
   },
   "file_extension": ".py",
   "mimetype": "text/x-python",
   "name": "python",
   "nbconvert_exporter": "python",
   "pygments_lexer": "ipython3",
   "version": "3.7.4"
  }
 },
 "nbformat": 4,
 "nbformat_minor": 2
}
